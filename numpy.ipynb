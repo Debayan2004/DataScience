{
  "nbformat": 4,
  "nbformat_minor": 0,
  "metadata": {
    "colab": {
      "provenance": [],
      "authorship_tag": "ABX9TyNzQm4jBnt3xmDc/m2slHnZ",
      "include_colab_link": true
    },
    "kernelspec": {
      "name": "python3",
      "display_name": "Python 3"
    },
    "language_info": {
      "name": "python"
    }
  },
  "cells": [
    {
      "cell_type": "markdown",
      "metadata": {
        "id": "view-in-github",
        "colab_type": "text"
      },
      "source": [
        "<a href=\"https://colab.research.google.com/github/Debayan2004/DataScience/blob/main/numpy.ipynb\" target=\"_parent\"><img src=\"https://colab.research.google.com/assets/colab-badge.svg\" alt=\"Open In Colab\"/></a>"
      ]
    },
    {
      "cell_type": "markdown",
      "source": [
        "# NUMPY TUTORIAL"
      ],
      "metadata": {
        "id": "OupRvnpSeUEF"
      }
    },
    {
      "cell_type": "markdown",
      "source": [
        "Importing Numpy library"
      ],
      "metadata": {
        "id": "hM7s_MlMTZ9J"
      }
    },
    {
      "cell_type": "code",
      "execution_count": 1,
      "metadata": {
        "id": "h4dK5dIuR8bh"
      },
      "outputs": [],
      "source": [
        "import numpy as np"
      ]
    },
    {
      "cell_type": "markdown",
      "source": [
        "Printing list"
      ],
      "metadata": {
        "id": "LmXo86DvTkIh"
      }
    },
    {
      "cell_type": "code",
      "source": [
        "lst = [1,2,3,4,5]\n",
        "print(lst)"
      ],
      "metadata": {
        "colab": {
          "base_uri": "https://localhost:8080/"
        },
        "id": "YHmdwU65SVsA",
        "outputId": "11e3c9fd-6fe9-4c39-b18b-ce35b6104d61"
      },
      "execution_count": 2,
      "outputs": [
        {
          "output_type": "stream",
          "name": "stdout",
          "text": [
            "[1, 2, 3, 4, 5]\n"
          ]
        }
      ]
    },
    {
      "cell_type": "markdown",
      "source": [
        "Printing 1D, 2D and 3D arrays"
      ],
      "metadata": {
        "id": "3NTtUnKDTmxB"
      }
    },
    {
      "cell_type": "code",
      "source": [
        "print(\"1D Array\")\n",
        "a = np.array([1,2,3,4,5])\n",
        "print(a)\n",
        "\n",
        "print(\"2D Array\")\n",
        "b = np.array([[1,2,3,4,5],\n",
        "             [6,7,8,9,10]])\n",
        "print(b)\n",
        "\n",
        "\n",
        "print(\"3D Array\")\n",
        "c = np.array([[[1,2,3,4,5],\n",
        "               [6,7,8,9,10],\n",
        "               [11,12,13,14,15]]])\n",
        "print(c)"
      ],
      "metadata": {
        "colab": {
          "base_uri": "https://localhost:8080/"
        },
        "id": "sR7oL900Sdvx",
        "outputId": "285abc39-64b0-4f39-f88e-b6832035c41d"
      },
      "execution_count": 3,
      "outputs": [
        {
          "output_type": "stream",
          "name": "stdout",
          "text": [
            "1D Array\n",
            "[1 2 3 4 5]\n",
            "2D Array\n",
            "[[ 1  2  3  4  5]\n",
            " [ 6  7  8  9 10]]\n",
            "3D Array\n",
            "[[[ 1  2  3  4  5]\n",
            "  [ 6  7  8  9 10]\n",
            "  [11 12 13 14 15]]]\n"
          ]
        }
      ]
    },
    {
      "cell_type": "markdown",
      "source": [
        "Printing type of 1D,2D and 3D arrays"
      ],
      "metadata": {
        "id": "5-NJcxGpTrx6"
      }
    },
    {
      "cell_type": "code",
      "source": [
        "type(a)\n",
        "type(b)\n",
        "type(c)"
      ],
      "metadata": {
        "colab": {
          "base_uri": "https://localhost:8080/"
        },
        "id": "y5iIB_-ETMVM",
        "outputId": "f41fba35-5af4-4324-fc0f-37d2df877c73"
      },
      "execution_count": 4,
      "outputs": [
        {
          "output_type": "execute_result",
          "data": {
            "text/plain": [
              "numpy.ndarray"
            ]
          },
          "metadata": {},
          "execution_count": 4
        }
      ]
    },
    {
      "cell_type": "markdown",
      "source": [
        "Printing number of elements in each array"
      ],
      "metadata": {
        "id": "oQWQ3xKeT2yi"
      }
    },
    {
      "cell_type": "code",
      "source": [
        "print(a.size)\n",
        "print(b.size)\n",
        "print(c.size)"
      ],
      "metadata": {
        "colab": {
          "base_uri": "https://localhost:8080/"
        },
        "id": "kdS7R_TRTQqb",
        "outputId": "f1f9405a-d930-43cb-fe75-0921f1de5f0b"
      },
      "execution_count": 5,
      "outputs": [
        {
          "output_type": "stream",
          "name": "stdout",
          "text": [
            "5\n",
            "10\n",
            "15\n"
          ]
        }
      ]
    },
    {
      "cell_type": "markdown",
      "source": [
        "Printing number of rows or column i.e shapes of arrays"
      ],
      "metadata": {
        "id": "DITIjQQ2UCy3"
      }
    },
    {
      "cell_type": "code",
      "source": [
        "print(a.shape)\n",
        "print(b.shape)\n",
        "print(c.shape)"
      ],
      "metadata": {
        "colab": {
          "base_uri": "https://localhost:8080/"
        },
        "id": "4YiQERY5T-XU",
        "outputId": "0e3278e2-6a96-4afe-df82-e630682aea0b"
      },
      "execution_count": 6,
      "outputs": [
        {
          "output_type": "stream",
          "name": "stdout",
          "text": [
            "(5,)\n",
            "(2, 5)\n",
            "(1, 3, 5)\n"
          ]
        }
      ]
    },
    {
      "cell_type": "markdown",
      "source": [
        "Printing type of data present in the array"
      ],
      "metadata": {
        "id": "vTXc-WvgUZ38"
      }
    },
    {
      "cell_type": "code",
      "source": [
        "print(a.dtype)\n",
        "print(b.dtype)\n",
        "print(c.dtype)"
      ],
      "metadata": {
        "colab": {
          "base_uri": "https://localhost:8080/"
        },
        "id": "P7Q0EsoFUMXi",
        "outputId": "52e370ea-8e82-411b-e3b5-27ad82456284"
      },
      "execution_count": 7,
      "outputs": [
        {
          "output_type": "stream",
          "name": "stdout",
          "text": [
            "int64\n",
            "int64\n",
            "int64\n"
          ]
        }
      ]
    },
    {
      "cell_type": "markdown",
      "source": [
        "Transposing array"
      ],
      "metadata": {
        "id": "iiABA-PHUoF6"
      }
    },
    {
      "cell_type": "code",
      "source": [
        "c.transpose()"
      ],
      "metadata": {
        "colab": {
          "base_uri": "https://localhost:8080/"
        },
        "id": "OuMmNRWoUhwR",
        "outputId": "872bdb84-4b46-4e2c-c1e2-ffedd1bdf7da"
      },
      "execution_count": 8,
      "outputs": [
        {
          "output_type": "execute_result",
          "data": {
            "text/plain": [
              "array([[[ 1],\n",
              "        [ 6],\n",
              "        [11]],\n",
              "\n",
              "       [[ 2],\n",
              "        [ 7],\n",
              "        [12]],\n",
              "\n",
              "       [[ 3],\n",
              "        [ 8],\n",
              "        [13]],\n",
              "\n",
              "       [[ 4],\n",
              "        [ 9],\n",
              "        [14]],\n",
              "\n",
              "       [[ 5],\n",
              "        [10],\n",
              "        [15]]])"
            ]
          },
          "metadata": {},
          "execution_count": 8
        }
      ]
    },
    {
      "cell_type": "markdown",
      "source": [
        "np.empty((rows,cols),dtype)"
      ],
      "metadata": {
        "id": "TltMp8jFVBQl"
      }
    },
    {
      "cell_type": "code",
      "source": [
        "np.empty((4,4),dtype = int)"
      ],
      "metadata": {
        "colab": {
          "base_uri": "https://localhost:8080/"
        },
        "id": "RCypAf5kUvhr",
        "outputId": "521d9553-8e41-4024-983b-2c8127a29ca4"
      },
      "execution_count": 9,
      "outputs": [
        {
          "output_type": "execute_result",
          "data": {
            "text/plain": [
              "array([[     96798910984746,                   0, 2336916756001485934,\n",
              "        7575101188202261802],\n",
              "       [7310293721338552435, 7310590476095729191,  733291986385963635,\n",
              "        7236833193484444714],\n",
              "       [8298480879104237610, 6879638067648160099, 7957614433250144870,\n",
              "        8749491804042197356],\n",
              "       [7866135357675829024, 2338328218406577263, 2819375911285319027,\n",
              "        2314850406697825136]])"
            ]
          },
          "metadata": {},
          "execution_count": 9
        }
      ]
    },
    {
      "cell_type": "markdown",
      "source": [
        "np.ones((rows,cols),dtype)"
      ],
      "metadata": {
        "id": "BIsCOysKVRtz"
      }
    },
    {
      "cell_type": "code",
      "source": [
        "x = np.ones(6)\n",
        "x"
      ],
      "metadata": {
        "colab": {
          "base_uri": "https://localhost:8080/"
        },
        "id": "cAftmMkVVMEt",
        "outputId": "4a04a823-4e07-4ccb-a605-95337cabeba9"
      },
      "execution_count": 10,
      "outputs": [
        {
          "output_type": "execute_result",
          "data": {
            "text/plain": [
              "array([1., 1., 1., 1., 1., 1.])"
            ]
          },
          "metadata": {},
          "execution_count": 10
        }
      ]
    },
    {
      "cell_type": "code",
      "source": [
        "y = np.ones((3,5))\n",
        "y"
      ],
      "metadata": {
        "colab": {
          "base_uri": "https://localhost:8080/"
        },
        "id": "V58pgkZFVcUa",
        "outputId": "c206da52-9d15-4faf-d946-61d606caf4d9"
      },
      "execution_count": 11,
      "outputs": [
        {
          "output_type": "execute_result",
          "data": {
            "text/plain": [
              "array([[1., 1., 1., 1., 1.],\n",
              "       [1., 1., 1., 1., 1.],\n",
              "       [1., 1., 1., 1., 1.]])"
            ]
          },
          "metadata": {},
          "execution_count": 11
        }
      ]
    },
    {
      "cell_type": "code",
      "source": [
        "z = np.ones((3,5),dtype = int)\n",
        "z"
      ],
      "metadata": {
        "colab": {
          "base_uri": "https://localhost:8080/"
        },
        "id": "rQKK1vIaVr_q",
        "outputId": "80ee5aa7-fceb-4388-fd1b-499c9c08c090"
      },
      "execution_count": 12,
      "outputs": [
        {
          "output_type": "execute_result",
          "data": {
            "text/plain": [
              "array([[1, 1, 1, 1, 1],\n",
              "       [1, 1, 1, 1, 1],\n",
              "       [1, 1, 1, 1, 1]])"
            ]
          },
          "metadata": {},
          "execution_count": 12
        }
      ]
    },
    {
      "cell_type": "markdown",
      "source": [
        "np.zeros((rows,cols),dtype)"
      ],
      "metadata": {
        "id": "Q4ucKwYjV3ke"
      }
    },
    {
      "cell_type": "code",
      "source": [
        "x = np.zeros(6)\n",
        "x"
      ],
      "metadata": {
        "colab": {
          "base_uri": "https://localhost:8080/"
        },
        "id": "g14mkWDKVweo",
        "outputId": "3b58ec31-1cd1-4358-cd1b-b6643d4d561a"
      },
      "execution_count": 13,
      "outputs": [
        {
          "output_type": "execute_result",
          "data": {
            "text/plain": [
              "array([0., 0., 0., 0., 0., 0.])"
            ]
          },
          "metadata": {},
          "execution_count": 13
        }
      ]
    },
    {
      "cell_type": "code",
      "source": [
        "y = np.zeros((3,5))\n",
        "y"
      ],
      "metadata": {
        "colab": {
          "base_uri": "https://localhost:8080/"
        },
        "id": "Vr9WxiRhV9yA",
        "outputId": "d29b0c5d-353c-42d7-f9ce-e2c95d662874"
      },
      "execution_count": 14,
      "outputs": [
        {
          "output_type": "execute_result",
          "data": {
            "text/plain": [
              "array([[0., 0., 0., 0., 0.],\n",
              "       [0., 0., 0., 0., 0.],\n",
              "       [0., 0., 0., 0., 0.]])"
            ]
          },
          "metadata": {},
          "execution_count": 14
        }
      ]
    },
    {
      "cell_type": "code",
      "source": [
        "z = np.zeros((3,5),dtype = int)\n",
        "z"
      ],
      "metadata": {
        "colab": {
          "base_uri": "https://localhost:8080/"
        },
        "id": "HCONHQi0WGDs",
        "outputId": "77e2d6eb-c339-47c3-de75-963fccb77ca3"
      },
      "execution_count": 15,
      "outputs": [
        {
          "output_type": "execute_result",
          "data": {
            "text/plain": [
              "array([[0, 0, 0, 0, 0],\n",
              "       [0, 0, 0, 0, 0],\n",
              "       [0, 0, 0, 0, 0]])"
            ]
          },
          "metadata": {},
          "execution_count": 15
        }
      ]
    },
    {
      "cell_type": "code",
      "source": [
        "l = np.zeros((4,8),dtype = str)\n",
        "print(l)\n",
        "print(\"\\n\")\n",
        "m = np.ones((4,8),dtype = str)\n",
        "print(m)"
      ],
      "metadata": {
        "colab": {
          "base_uri": "https://localhost:8080/"
        },
        "id": "WSqPF8BzWKiC",
        "outputId": "425f3bf2-5b0e-43a6-9051-d706c112262d"
      },
      "execution_count": 16,
      "outputs": [
        {
          "output_type": "stream",
          "name": "stdout",
          "text": [
            "[['' '' '' '' '' '' '' '']\n",
            " ['' '' '' '' '' '' '' '']\n",
            " ['' '' '' '' '' '' '' '']\n",
            " ['' '' '' '' '' '' '' '']]\n",
            "\n",
            "\n",
            "[['1' '1' '1' '1' '1' '1' '1' '1']\n",
            " ['1' '1' '1' '1' '1' '1' '1' '1']\n",
            " ['1' '1' '1' '1' '1' '1' '1' '1']\n",
            " ['1' '1' '1' '1' '1' '1' '1' '1']]\n"
          ]
        }
      ]
    },
    {
      "cell_type": "code",
      "source": [
        "l = np.ones((4,8),dtype = bool)\n",
        "print(l)\n",
        "print(\"\\n\")\n",
        "m = np.zeros((4,8),dtype = bool)\n",
        "print(m)"
      ],
      "metadata": {
        "colab": {
          "base_uri": "https://localhost:8080/"
        },
        "id": "_YMEJ8nRWUEn",
        "outputId": "ead1f334-3fb5-49c6-b9f1-5aa8abedf1e0"
      },
      "execution_count": 17,
      "outputs": [
        {
          "output_type": "stream",
          "name": "stdout",
          "text": [
            "[[ True  True  True  True  True  True  True  True]\n",
            " [ True  True  True  True  True  True  True  True]\n",
            " [ True  True  True  True  True  True  True  True]\n",
            " [ True  True  True  True  True  True  True  True]]\n",
            "\n",
            "\n",
            "[[False False False False False False False False]\n",
            " [False False False False False False False False]\n",
            " [False False False False False False False False]\n",
            " [False False False False False False False False]]\n"
          ]
        }
      ]
    },
    {
      "cell_type": "markdown",
      "source": [
        "np.arange(start,end,stop)"
      ],
      "metadata": {
        "id": "sysnPeJoW3mn"
      }
    },
    {
      "cell_type": "code",
      "source": [
        "a = np.arange(1,20)\n",
        "print(a)"
      ],
      "metadata": {
        "colab": {
          "base_uri": "https://localhost:8080/"
        },
        "id": "bVvNsU6HWv2V",
        "outputId": "300bf4bc-a00b-41cb-be0e-37263d91a659"
      },
      "execution_count": 18,
      "outputs": [
        {
          "output_type": "stream",
          "name": "stdout",
          "text": [
            "[ 1  2  3  4  5  6  7  8  9 10 11 12 13 14 15 16 17 18 19]\n"
          ]
        }
      ]
    },
    {
      "cell_type": "code",
      "source": [
        "a = np.arange(1,20,2)\n",
        "print(a)"
      ],
      "metadata": {
        "colab": {
          "base_uri": "https://localhost:8080/"
        },
        "id": "S_0_L0cTXAoO",
        "outputId": "92a27ed8-21a9-4f6b-e0ec-49192a018d9a"
      },
      "execution_count": 19,
      "outputs": [
        {
          "output_type": "stream",
          "name": "stdout",
          "text": [
            "[ 1  3  5  7  9 11 13 15 17 19]\n"
          ]
        }
      ]
    },
    {
      "cell_type": "code",
      "source": [
        "a = np.arange(2,20,2)\n",
        "print(a)"
      ],
      "metadata": {
        "colab": {
          "base_uri": "https://localhost:8080/"
        },
        "id": "5wAPoSFkXP57",
        "outputId": "30321778-f243-43b1-dbb7-60704e88497a"
      },
      "execution_count": 20,
      "outputs": [
        {
          "output_type": "stream",
          "name": "stdout",
          "text": [
            "[ 2  4  6  8 10 12 14 16 18]\n"
          ]
        }
      ]
    },
    {
      "cell_type": "markdown",
      "source": [
        "arr.reshape((rows,cols))"
      ],
      "metadata": {
        "id": "MREG30XgXa7k"
      }
    },
    {
      "cell_type": "code",
      "source": [
        "a = a.reshape((3,3))\n",
        "print(a)\n"
      ],
      "metadata": {
        "colab": {
          "base_uri": "https://localhost:8080/"
        },
        "id": "x1ciRXTkXZJ9",
        "outputId": "a248708d-a14c-43c4-ec1a-64fe6d374989"
      },
      "execution_count": 21,
      "outputs": [
        {
          "output_type": "stream",
          "name": "stdout",
          "text": [
            "[[ 2  4  6]\n",
            " [ 8 10 12]\n",
            " [14 16 18]]\n"
          ]
        }
      ]
    },
    {
      "cell_type": "code",
      "source": [
        "b = np.arange(1,100,2)\n",
        "print(b)"
      ],
      "metadata": {
        "colab": {
          "base_uri": "https://localhost:8080/"
        },
        "id": "cCw-MShlXlC2",
        "outputId": "ba59ac92-8430-451b-865a-99b502b05566"
      },
      "execution_count": 22,
      "outputs": [
        {
          "output_type": "stream",
          "name": "stdout",
          "text": [
            "[ 1  3  5  7  9 11 13 15 17 19 21 23 25 27 29 31 33 35 37 39 41 43 45 47\n",
            " 49 51 53 55 57 59 61 63 65 67 69 71 73 75 77 79 81 83 85 87 89 91 93 95\n",
            " 97 99]\n"
          ]
        }
      ]
    },
    {
      "cell_type": "code",
      "source": [
        "b = b.reshape((10,5))\n",
        "print(b)"
      ],
      "metadata": {
        "colab": {
          "base_uri": "https://localhost:8080/"
        },
        "id": "Zn4950F_XsEZ",
        "outputId": "ab62c758-5e81-4d44-e6bb-ecd5b12f1d47"
      },
      "execution_count": 23,
      "outputs": [
        {
          "output_type": "stream",
          "name": "stdout",
          "text": [
            "[[ 1  3  5  7  9]\n",
            " [11 13 15 17 19]\n",
            " [21 23 25 27 29]\n",
            " [31 33 35 37 39]\n",
            " [41 43 45 47 49]\n",
            " [51 53 55 57 59]\n",
            " [61 63 65 67 69]\n",
            " [71 73 75 77 79]\n",
            " [81 83 85 87 89]\n",
            " [91 93 95 97 99]]\n"
          ]
        }
      ]
    },
    {
      "cell_type": "code",
      "source": [
        "b = b.flatten()\n",
        "b"
      ],
      "metadata": {
        "colab": {
          "base_uri": "https://localhost:8080/"
        },
        "id": "Di9exJZ3XzOH",
        "outputId": "221a07c1-b8c3-4cf3-edb7-670ed0e10729"
      },
      "execution_count": 24,
      "outputs": [
        {
          "output_type": "execute_result",
          "data": {
            "text/plain": [
              "array([ 1,  3,  5,  7,  9, 11, 13, 15, 17, 19, 21, 23, 25, 27, 29, 31, 33,\n",
              "       35, 37, 39, 41, 43, 45, 47, 49, 51, 53, 55, 57, 59, 61, 63, 65, 67,\n",
              "       69, 71, 73, 75, 77, 79, 81, 83, 85, 87, 89, 91, 93, 95, 97, 99])"
            ]
          },
          "metadata": {},
          "execution_count": 24
        }
      ]
    },
    {
      "cell_type": "code",
      "source": [
        "a = a.ravel()\n",
        "a"
      ],
      "metadata": {
        "colab": {
          "base_uri": "https://localhost:8080/"
        },
        "id": "-nLfP38ZX3vc",
        "outputId": "cf8fda34-571e-4969-f881-4426508b734a"
      },
      "execution_count": 25,
      "outputs": [
        {
          "output_type": "execute_result",
          "data": {
            "text/plain": [
              "array([ 2,  4,  6,  8, 10, 12, 14, 16, 18])"
            ]
          },
          "metadata": {},
          "execution_count": 25
        }
      ]
    },
    {
      "cell_type": "markdown",
      "source": [
        "a.ravel() : Return only reference/view of original array. If you modify the array, you would notice that the value of original array also changes. Ravel is faster than flatten() as it does not occupy any memory. Ravel is a library-level function.\n",
        "\n",
        "\n",
        "a.flatten(): Return a copy of original array. if you modify any value of this array, value of original array is not affected. It is comparatively slower than ravel() as it occupies memory. It is a method of an ndarray object."
      ],
      "metadata": {
        "id": "-p1DW5yHYB3Y"
      }
    },
    {
      "cell_type": "markdown",
      "source": [
        "Array Slicing"
      ],
      "metadata": {
        "id": "A3q8N3Gxa1cN"
      }
    },
    {
      "cell_type": "code",
      "source": [
        "a = np.arange(1,51)\n",
        "a = a.reshape(10,5)\n",
        "a"
      ],
      "metadata": {
        "colab": {
          "base_uri": "https://localhost:8080/"
        },
        "id": "BDehKR6jYAVT",
        "outputId": "c73e8897-ecdd-4d7e-c4aa-e5015465e304"
      },
      "execution_count": 26,
      "outputs": [
        {
          "output_type": "execute_result",
          "data": {
            "text/plain": [
              "array([[ 1,  2,  3,  4,  5],\n",
              "       [ 6,  7,  8,  9, 10],\n",
              "       [11, 12, 13, 14, 15],\n",
              "       [16, 17, 18, 19, 20],\n",
              "       [21, 22, 23, 24, 25],\n",
              "       [26, 27, 28, 29, 30],\n",
              "       [31, 32, 33, 34, 35],\n",
              "       [36, 37, 38, 39, 40],\n",
              "       [41, 42, 43, 44, 45],\n",
              "       [46, 47, 48, 49, 50]])"
            ]
          },
          "metadata": {},
          "execution_count": 26
        }
      ]
    },
    {
      "cell_type": "code",
      "source": [
        "a[0]"
      ],
      "metadata": {
        "colab": {
          "base_uri": "https://localhost:8080/"
        },
        "id": "6XvgZ1HsbAGU",
        "outputId": "9457a0f7-f3dd-48e6-8740-9a606a6f755c"
      },
      "execution_count": 27,
      "outputs": [
        {
          "output_type": "execute_result",
          "data": {
            "text/plain": [
              "array([1, 2, 3, 4, 5])"
            ]
          },
          "metadata": {},
          "execution_count": 27
        }
      ]
    },
    {
      "cell_type": "code",
      "source": [
        "a[2]"
      ],
      "metadata": {
        "colab": {
          "base_uri": "https://localhost:8080/"
        },
        "id": "59fIWJ8xbGBq",
        "outputId": "f4cae5c1-2c32-4825-83a0-7d280d3f14bd"
      },
      "execution_count": 28,
      "outputs": [
        {
          "output_type": "execute_result",
          "data": {
            "text/plain": [
              "array([11, 12, 13, 14, 15])"
            ]
          },
          "metadata": {},
          "execution_count": 28
        }
      ]
    },
    {
      "cell_type": "code",
      "source": [
        "a[0,0]"
      ],
      "metadata": {
        "colab": {
          "base_uri": "https://localhost:8080/"
        },
        "id": "01KNwSmkbIFA",
        "outputId": "2c4975a2-b551-4120-d58f-a4cd720c5d17"
      },
      "execution_count": 29,
      "outputs": [
        {
          "output_type": "execute_result",
          "data": {
            "text/plain": [
              "1"
            ]
          },
          "metadata": {},
          "execution_count": 29
        }
      ]
    },
    {
      "cell_type": "code",
      "source": [
        "a[3,4]"
      ],
      "metadata": {
        "colab": {
          "base_uri": "https://localhost:8080/"
        },
        "id": "3ebd4C-KbKzq",
        "outputId": "47be262e-fe53-4046-98c8-51dbae52f133"
      },
      "execution_count": 30,
      "outputs": [
        {
          "output_type": "execute_result",
          "data": {
            "text/plain": [
              "20"
            ]
          },
          "metadata": {},
          "execution_count": 30
        }
      ]
    },
    {
      "cell_type": "code",
      "source": [
        "a[2:5]"
      ],
      "metadata": {
        "colab": {
          "base_uri": "https://localhost:8080/"
        },
        "id": "xpq5J-mCbOU9",
        "outputId": "61b8dc4f-fd62-4233-de5e-ae3696a062fb"
      },
      "execution_count": 31,
      "outputs": [
        {
          "output_type": "execute_result",
          "data": {
            "text/plain": [
              "array([[11, 12, 13, 14, 15],\n",
              "       [16, 17, 18, 19, 20],\n",
              "       [21, 22, 23, 24, 25]])"
            ]
          },
          "metadata": {},
          "execution_count": 31
        }
      ]
    },
    {
      "cell_type": "code",
      "source": [
        "a[0:100]"
      ],
      "metadata": {
        "colab": {
          "base_uri": "https://localhost:8080/"
        },
        "id": "UBfvVSK7bUZ_",
        "outputId": "2e8e093d-59f6-479f-d8c0-7adce0bee8ca"
      },
      "execution_count": 32,
      "outputs": [
        {
          "output_type": "execute_result",
          "data": {
            "text/plain": [
              "array([[ 1,  2,  3,  4,  5],\n",
              "       [ 6,  7,  8,  9, 10],\n",
              "       [11, 12, 13, 14, 15],\n",
              "       [16, 17, 18, 19, 20],\n",
              "       [21, 22, 23, 24, 25],\n",
              "       [26, 27, 28, 29, 30],\n",
              "       [31, 32, 33, 34, 35],\n",
              "       [36, 37, 38, 39, 40],\n",
              "       [41, 42, 43, 44, 45],\n",
              "       [46, 47, 48, 49, 50]])"
            ]
          },
          "metadata": {},
          "execution_count": 32
        }
      ]
    },
    {
      "cell_type": "code",
      "source": [
        "a[:,2]"
      ],
      "metadata": {
        "colab": {
          "base_uri": "https://localhost:8080/"
        },
        "id": "L_aEU8x0bXw9",
        "outputId": "b87ed404-2161-4955-fb08-04cd1fcd970f"
      },
      "execution_count": 33,
      "outputs": [
        {
          "output_type": "execute_result",
          "data": {
            "text/plain": [
              "array([ 3,  8, 13, 18, 23, 28, 33, 38, 43, 48])"
            ]
          },
          "metadata": {},
          "execution_count": 33
        }
      ]
    },
    {
      "cell_type": "code",
      "source": [
        "a[2:5,4]"
      ],
      "metadata": {
        "colab": {
          "base_uri": "https://localhost:8080/"
        },
        "id": "SeJnAUOvbqB2",
        "outputId": "e87d4746-e06e-4eb6-ba88-603ce2cacc00"
      },
      "execution_count": 34,
      "outputs": [
        {
          "output_type": "execute_result",
          "data": {
            "text/plain": [
              "array([15, 20, 25])"
            ]
          },
          "metadata": {},
          "execution_count": 34
        }
      ]
    },
    {
      "cell_type": "code",
      "source": [
        "a[:,:]"
      ],
      "metadata": {
        "colab": {
          "base_uri": "https://localhost:8080/"
        },
        "id": "8hKTM8p2b5Ah",
        "outputId": "54b4e5c9-9070-454c-f1b4-68e40a8e3372"
      },
      "execution_count": 35,
      "outputs": [
        {
          "output_type": "execute_result",
          "data": {
            "text/plain": [
              "array([[ 1,  2,  3,  4,  5],\n",
              "       [ 6,  7,  8,  9, 10],\n",
              "       [11, 12, 13, 14, 15],\n",
              "       [16, 17, 18, 19, 20],\n",
              "       [21, 22, 23, 24, 25],\n",
              "       [26, 27, 28, 29, 30],\n",
              "       [31, 32, 33, 34, 35],\n",
              "       [36, 37, 38, 39, 40],\n",
              "       [41, 42, 43, 44, 45],\n",
              "       [46, 47, 48, 49, 50]])"
            ]
          },
          "metadata": {},
          "execution_count": 35
        }
      ]
    },
    {
      "cell_type": "code",
      "source": [
        "a[:,2:5]"
      ],
      "metadata": {
        "colab": {
          "base_uri": "https://localhost:8080/"
        },
        "id": "e5gqRacvb9PX",
        "outputId": "da702363-5ba6-48f9-8db3-76e2d11aaa27"
      },
      "execution_count": 36,
      "outputs": [
        {
          "output_type": "execute_result",
          "data": {
            "text/plain": [
              "array([[ 3,  4,  5],\n",
              "       [ 8,  9, 10],\n",
              "       [13, 14, 15],\n",
              "       [18, 19, 20],\n",
              "       [23, 24, 25],\n",
              "       [28, 29, 30],\n",
              "       [33, 34, 35],\n",
              "       [38, 39, 40],\n",
              "       [43, 44, 45],\n",
              "       [48, 49, 50]])"
            ]
          },
          "metadata": {},
          "execution_count": 36
        }
      ]
    },
    {
      "cell_type": "code",
      "source": [
        "a[:,2:5].dtype"
      ],
      "metadata": {
        "colab": {
          "base_uri": "https://localhost:8080/"
        },
        "id": "TfuOY6xzcCgx",
        "outputId": "96c59879-1e76-4f1b-ff93-129b5240e64a"
      },
      "execution_count": 37,
      "outputs": [
        {
          "output_type": "execute_result",
          "data": {
            "text/plain": [
              "dtype('int64')"
            ]
          },
          "metadata": {},
          "execution_count": 37
        }
      ]
    },
    {
      "cell_type": "markdown",
      "source": [
        "Mathematical Operations"
      ],
      "metadata": {
        "id": "YcIOoeQDcQc6"
      }
    },
    {
      "cell_type": "code",
      "source": [
        "a = np.arange(0,18).reshape((6,3))\n",
        "b = np.arange(20,38).reshape((6,3))\n",
        "print(a)\n",
        "print(b)"
      ],
      "metadata": {
        "colab": {
          "base_uri": "https://localhost:8080/"
        },
        "id": "jMGwBSl0cH5l",
        "outputId": "55c7f0fb-9f24-4499-b49b-9ff14213cb76"
      },
      "execution_count": 38,
      "outputs": [
        {
          "output_type": "stream",
          "name": "stdout",
          "text": [
            "[[ 0  1  2]\n",
            " [ 3  4  5]\n",
            " [ 6  7  8]\n",
            " [ 9 10 11]\n",
            " [12 13 14]\n",
            " [15 16 17]]\n",
            "[[20 21 22]\n",
            " [23 24 25]\n",
            " [26 27 28]\n",
            " [29 30 31]\n",
            " [32 33 34]\n",
            " [35 36 37]]\n"
          ]
        }
      ]
    },
    {
      "cell_type": "markdown",
      "source": [
        "Addition"
      ],
      "metadata": {
        "id": "HGz7RXEzfTBp"
      }
    },
    {
      "cell_type": "code",
      "source": [
        "a+b"
      ],
      "metadata": {
        "colab": {
          "base_uri": "https://localhost:8080/"
        },
        "id": "JUoSiH_BcfhL",
        "outputId": "5122d47a-1a51-4862-a1e0-3f3e53bc9a1a"
      },
      "execution_count": 39,
      "outputs": [
        {
          "output_type": "execute_result",
          "data": {
            "text/plain": [
              "array([[20, 22, 24],\n",
              "       [26, 28, 30],\n",
              "       [32, 34, 36],\n",
              "       [38, 40, 42],\n",
              "       [44, 46, 48],\n",
              "       [50, 52, 54]])"
            ]
          },
          "metadata": {},
          "execution_count": 39
        }
      ]
    },
    {
      "cell_type": "code",
      "source": [
        "np.add(a,b)"
      ],
      "metadata": {
        "colab": {
          "base_uri": "https://localhost:8080/"
        },
        "id": "Nw7DCaGCcmRz",
        "outputId": "ac60e997-d07e-4d2f-c6a7-aed627bbcb9b"
      },
      "execution_count": 40,
      "outputs": [
        {
          "output_type": "execute_result",
          "data": {
            "text/plain": [
              "array([[20, 22, 24],\n",
              "       [26, 28, 30],\n",
              "       [32, 34, 36],\n",
              "       [38, 40, 42],\n",
              "       [44, 46, 48],\n",
              "       [50, 52, 54]])"
            ]
          },
          "metadata": {},
          "execution_count": 40
        }
      ]
    },
    {
      "cell_type": "markdown",
      "source": [
        "Subtraction"
      ],
      "metadata": {
        "id": "9lOd8uw2fVdK"
      }
    },
    {
      "cell_type": "code",
      "source": [
        "a-b"
      ],
      "metadata": {
        "colab": {
          "base_uri": "https://localhost:8080/"
        },
        "id": "RbSGEalycqtf",
        "outputId": "1cb944f1-bfc8-46b5-c6e0-cc1314a1fd0d"
      },
      "execution_count": 41,
      "outputs": [
        {
          "output_type": "execute_result",
          "data": {
            "text/plain": [
              "array([[-20, -20, -20],\n",
              "       [-20, -20, -20],\n",
              "       [-20, -20, -20],\n",
              "       [-20, -20, -20],\n",
              "       [-20, -20, -20],\n",
              "       [-20, -20, -20]])"
            ]
          },
          "metadata": {},
          "execution_count": 41
        }
      ]
    },
    {
      "cell_type": "code",
      "source": [
        "np.subtract(a,b)"
      ],
      "metadata": {
        "colab": {
          "base_uri": "https://localhost:8080/"
        },
        "id": "RmMOgzKVcsj6",
        "outputId": "81272af6-47e5-4373-8cd7-03b8e5bf89d5"
      },
      "execution_count": 42,
      "outputs": [
        {
          "output_type": "execute_result",
          "data": {
            "text/plain": [
              "array([[-20, -20, -20],\n",
              "       [-20, -20, -20],\n",
              "       [-20, -20, -20],\n",
              "       [-20, -20, -20],\n",
              "       [-20, -20, -20],\n",
              "       [-20, -20, -20]])"
            ]
          },
          "metadata": {},
          "execution_count": 42
        }
      ]
    },
    {
      "cell_type": "markdown",
      "source": [
        "Multiplication"
      ],
      "metadata": {
        "id": "SDUXtHW1fX1L"
      }
    },
    {
      "cell_type": "code",
      "source": [
        "a*b"
      ],
      "metadata": {
        "colab": {
          "base_uri": "https://localhost:8080/"
        },
        "id": "ujF_Q_A3cvWx",
        "outputId": "60aabbab-0e82-47e0-fb07-b82d954a31e1"
      },
      "execution_count": 43,
      "outputs": [
        {
          "output_type": "execute_result",
          "data": {
            "text/plain": [
              "array([[  0,  21,  44],\n",
              "       [ 69,  96, 125],\n",
              "       [156, 189, 224],\n",
              "       [261, 300, 341],\n",
              "       [384, 429, 476],\n",
              "       [525, 576, 629]])"
            ]
          },
          "metadata": {},
          "execution_count": 43
        }
      ]
    },
    {
      "cell_type": "code",
      "source": [
        "np.multiply(a,b)"
      ],
      "metadata": {
        "colab": {
          "base_uri": "https://localhost:8080/"
        },
        "id": "TXpEa45-czgc",
        "outputId": "369e5f3c-8f52-433f-a9b4-92e4d509172e"
      },
      "execution_count": 44,
      "outputs": [
        {
          "output_type": "execute_result",
          "data": {
            "text/plain": [
              "array([[  0,  21,  44],\n",
              "       [ 69,  96, 125],\n",
              "       [156, 189, 224],\n",
              "       [261, 300, 341],\n",
              "       [384, 429, 476],\n",
              "       [525, 576, 629]])"
            ]
          },
          "metadata": {},
          "execution_count": 44
        }
      ]
    },
    {
      "cell_type": "markdown",
      "source": [
        "Division"
      ],
      "metadata": {
        "id": "1rQFCJP7fdM0"
      }
    },
    {
      "cell_type": "code",
      "source": [
        "a/b"
      ],
      "metadata": {
        "colab": {
          "base_uri": "https://localhost:8080/"
        },
        "id": "tTyEBsLfc2dx",
        "outputId": "b948cffb-9f67-4770-94b5-c13a44e00c66"
      },
      "execution_count": 45,
      "outputs": [
        {
          "output_type": "execute_result",
          "data": {
            "text/plain": [
              "array([[0.        , 0.04761905, 0.09090909],\n",
              "       [0.13043478, 0.16666667, 0.2       ],\n",
              "       [0.23076923, 0.25925926, 0.28571429],\n",
              "       [0.31034483, 0.33333333, 0.35483871],\n",
              "       [0.375     , 0.39393939, 0.41176471],\n",
              "       [0.42857143, 0.44444444, 0.45945946]])"
            ]
          },
          "metadata": {},
          "execution_count": 45
        }
      ]
    },
    {
      "cell_type": "code",
      "source": [
        "np.divide(a,b)"
      ],
      "metadata": {
        "colab": {
          "base_uri": "https://localhost:8080/"
        },
        "id": "m6yr70aUc8mP",
        "outputId": "1d3f08c8-024f-48e6-9058-caa62e37f450"
      },
      "execution_count": 46,
      "outputs": [
        {
          "output_type": "execute_result",
          "data": {
            "text/plain": [
              "array([[0.        , 0.04761905, 0.09090909],\n",
              "       [0.13043478, 0.16666667, 0.2       ],\n",
              "       [0.23076923, 0.25925926, 0.28571429],\n",
              "       [0.31034483, 0.33333333, 0.35483871],\n",
              "       [0.375     , 0.39393939, 0.41176471],\n",
              "       [0.42857143, 0.44444444, 0.45945946]])"
            ]
          },
          "metadata": {},
          "execution_count": 46
        }
      ]
    },
    {
      "cell_type": "markdown",
      "source": [
        "Matrix Multiplication"
      ],
      "metadata": {
        "id": "azCRyqBddVB9"
      }
    },
    {
      "cell_type": "code",
      "source": [
        "print(a.shape)\n",
        "print(b.shape)"
      ],
      "metadata": {
        "colab": {
          "base_uri": "https://localhost:8080/"
        },
        "id": "L65B0xgkdEpq",
        "outputId": "1c61c622-276a-4577-d09b-d2c340214f35"
      },
      "execution_count": 47,
      "outputs": [
        {
          "output_type": "stream",
          "name": "stdout",
          "text": [
            "(6, 3)\n",
            "(6, 3)\n"
          ]
        }
      ]
    },
    {
      "cell_type": "code",
      "source": [
        "b = b.reshape(3,6)"
      ],
      "metadata": {
        "id": "c6T7A9O3dcdx"
      },
      "execution_count": 48,
      "outputs": []
    },
    {
      "cell_type": "code",
      "source": [
        "print(a.shape)\n",
        "print(b.shape)"
      ],
      "metadata": {
        "colab": {
          "base_uri": "https://localhost:8080/"
        },
        "id": "KVh0k1xQdhL2",
        "outputId": "5789abe4-4ddd-4438-cbba-849421e2b6c5"
      },
      "execution_count": 49,
      "outputs": [
        {
          "output_type": "stream",
          "name": "stdout",
          "text": [
            "(6, 3)\n",
            "(3, 6)\n"
          ]
        }
      ]
    },
    {
      "cell_type": "code",
      "source": [
        "a@b"
      ],
      "metadata": {
        "colab": {
          "base_uri": "https://localhost:8080/"
        },
        "id": "MOELWhtRdlDl",
        "outputId": "17284dd9-4a9f-4912-f86e-7154605fa5e7"
      },
      "execution_count": 50,
      "outputs": [
        {
          "output_type": "execute_result",
          "data": {
            "text/plain": [
              "array([[  90,   93,   96,   99,  102,  105],\n",
              "       [ 324,  336,  348,  360,  372,  384],\n",
              "       [ 558,  579,  600,  621,  642,  663],\n",
              "       [ 792,  822,  852,  882,  912,  942],\n",
              "       [1026, 1065, 1104, 1143, 1182, 1221],\n",
              "       [1260, 1308, 1356, 1404, 1452, 1500]])"
            ]
          },
          "metadata": {},
          "execution_count": 50
        }
      ]
    },
    {
      "cell_type": "code",
      "source": [
        "a.dot(b)"
      ],
      "metadata": {
        "colab": {
          "base_uri": "https://localhost:8080/"
        },
        "id": "kbFS7bJsdm6A",
        "outputId": "c6f9503d-63ef-4f27-fc94-8fc9f0c7a745"
      },
      "execution_count": 51,
      "outputs": [
        {
          "output_type": "execute_result",
          "data": {
            "text/plain": [
              "array([[  90,   93,   96,   99,  102,  105],\n",
              "       [ 324,  336,  348,  360,  372,  384],\n",
              "       [ 558,  579,  600,  621,  642,  663],\n",
              "       [ 792,  822,  852,  882,  912,  942],\n",
              "       [1026, 1065, 1104, 1143, 1182, 1221],\n",
              "       [1260, 1308, 1356, 1404, 1452, 1500]])"
            ]
          },
          "metadata": {},
          "execution_count": 51
        }
      ]
    },
    {
      "cell_type": "markdown",
      "source": [
        "Maximum value of array"
      ],
      "metadata": {
        "id": "i41dzr_Cfwhu"
      }
    },
    {
      "cell_type": "code",
      "source": [
        "b.max()"
      ],
      "metadata": {
        "colab": {
          "base_uri": "https://localhost:8080/"
        },
        "id": "1I-YtJrMdqOK",
        "outputId": "4d0f5cfb-7c34-4eab-d45f-a017118c4d0a"
      },
      "execution_count": 52,
      "outputs": [
        {
          "output_type": "execute_result",
          "data": {
            "text/plain": [
              "37"
            ]
          },
          "metadata": {},
          "execution_count": 52
        }
      ]
    },
    {
      "cell_type": "markdown",
      "source": [
        "Minimum Value of array"
      ],
      "metadata": {
        "id": "56cDvUw0f0es"
      }
    },
    {
      "cell_type": "code",
      "source": [
        "b.min()"
      ],
      "metadata": {
        "colab": {
          "base_uri": "https://localhost:8080/"
        },
        "id": "W6auTu0SdufT",
        "outputId": "9898e982-af1e-4797-ac87-bd6f52c21261"
      },
      "execution_count": 53,
      "outputs": [
        {
          "output_type": "execute_result",
          "data": {
            "text/plain": [
              "20"
            ]
          },
          "metadata": {},
          "execution_count": 53
        }
      ]
    },
    {
      "cell_type": "markdown",
      "source": [
        "Index of max value"
      ],
      "metadata": {
        "id": "Jlb8S2CYf3oz"
      }
    },
    {
      "cell_type": "code",
      "source": [
        "b.argmax()    #Gives index of max value"
      ],
      "metadata": {
        "colab": {
          "base_uri": "https://localhost:8080/"
        },
        "id": "mp02gRAPdxdt",
        "outputId": "bf286e27-2df9-4b74-cb55-41aa7d3a0855"
      },
      "execution_count": 54,
      "outputs": [
        {
          "output_type": "execute_result",
          "data": {
            "text/plain": [
              "17"
            ]
          },
          "metadata": {},
          "execution_count": 54
        }
      ]
    },
    {
      "cell_type": "markdown",
      "source": [
        "sum of values"
      ],
      "metadata": {
        "id": "BCnRTYmff6yb"
      }
    },
    {
      "cell_type": "code",
      "source": [
        "np.sum(b)"
      ],
      "metadata": {
        "colab": {
          "base_uri": "https://localhost:8080/"
        },
        "id": "GKDQzZv9dzRJ",
        "outputId": "39313405-92ae-4b21-da09-70687e85c9fb"
      },
      "execution_count": 55,
      "outputs": [
        {
          "output_type": "execute_result",
          "data": {
            "text/plain": [
              "513"
            ]
          },
          "metadata": {},
          "execution_count": 55
        }
      ]
    },
    {
      "cell_type": "markdown",
      "source": [
        "Sum of elements in each and every row"
      ],
      "metadata": {
        "id": "PyeeGM-if87h"
      }
    },
    {
      "cell_type": "code",
      "source": [
        "np.sum(b,axis=1)"
      ],
      "metadata": {
        "colab": {
          "base_uri": "https://localhost:8080/"
        },
        "id": "bbgf3sFzd78_",
        "outputId": "c8967d65-8258-4479-da6d-0d1c5fb47483"
      },
      "execution_count": 56,
      "outputs": [
        {
          "output_type": "execute_result",
          "data": {
            "text/plain": [
              "array([135, 171, 207])"
            ]
          },
          "metadata": {},
          "execution_count": 56
        }
      ]
    },
    {
      "cell_type": "markdown",
      "source": [
        "Sum of elements in each and every column"
      ],
      "metadata": {
        "id": "QDJmKWHwgkWh"
      }
    },
    {
      "cell_type": "code",
      "source": [
        "np.sum(b,axis=0)"
      ],
      "metadata": {
        "colab": {
          "base_uri": "https://localhost:8080/"
        },
        "id": "qYyYpUP3eAqN",
        "outputId": "c169fb53-7369-4b03-a18c-24b80ae378d6"
      },
      "execution_count": 57,
      "outputs": [
        {
          "output_type": "execute_result",
          "data": {
            "text/plain": [
              "array([78, 81, 84, 87, 90, 93])"
            ]
          },
          "metadata": {},
          "execution_count": 57
        }
      ]
    },
    {
      "cell_type": "markdown",
      "source": [
        "Mean of array"
      ],
      "metadata": {
        "id": "PNexVfKVgs60"
      }
    },
    {
      "cell_type": "code",
      "source": [
        "np.mean(b)"
      ],
      "metadata": {
        "colab": {
          "base_uri": "https://localhost:8080/"
        },
        "id": "kV2kIA8hgqY0",
        "outputId": "7e3d30e0-453a-43c0-d181-15fcf8a0603f"
      },
      "execution_count": 58,
      "outputs": [
        {
          "output_type": "execute_result",
          "data": {
            "text/plain": [
              "28.5"
            ]
          },
          "metadata": {},
          "execution_count": 58
        }
      ]
    },
    {
      "cell_type": "markdown",
      "source": [
        "Square root of each and every value in the array"
      ],
      "metadata": {
        "id": "mkollQCTgyZR"
      }
    },
    {
      "cell_type": "code",
      "source": [
        "np.sqrt(b)"
      ],
      "metadata": {
        "colab": {
          "base_uri": "https://localhost:8080/"
        },
        "id": "Txx2LbzRgwgt",
        "outputId": "47b2ba6b-86ae-4e44-8297-b06825d1b2df"
      },
      "execution_count": 59,
      "outputs": [
        {
          "output_type": "execute_result",
          "data": {
            "text/plain": [
              "array([[4.47213595, 4.58257569, 4.69041576, 4.79583152, 4.89897949,\n",
              "        5.        ],\n",
              "       [5.09901951, 5.19615242, 5.29150262, 5.38516481, 5.47722558,\n",
              "        5.56776436],\n",
              "       [5.65685425, 5.74456265, 5.83095189, 5.91607978, 6.        ,\n",
              "        6.08276253]])"
            ]
          },
          "metadata": {},
          "execution_count": 59
        }
      ]
    },
    {
      "cell_type": "markdown",
      "source": [
        "Standard Deviation of all elements in the array"
      ],
      "metadata": {
        "id": "kgQ6nHWlg5sZ"
      }
    },
    {
      "cell_type": "code",
      "source": [
        "np.std(b)"
      ],
      "metadata": {
        "colab": {
          "base_uri": "https://localhost:8080/"
        },
        "id": "FMKFowLCg28c",
        "outputId": "4c25deca-b7a7-4a53-e33d-445062189ddb"
      },
      "execution_count": 60,
      "outputs": [
        {
          "output_type": "execute_result",
          "data": {
            "text/plain": [
              "5.188127472091127"
            ]
          },
          "metadata": {},
          "execution_count": 60
        }
      ]
    },
    {
      "cell_type": "markdown",
      "source": [
        "Log of all elements in the array"
      ],
      "metadata": {
        "id": "uxSd_gZahAuL"
      }
    },
    {
      "cell_type": "code",
      "source": [
        "np.log(b)"
      ],
      "metadata": {
        "colab": {
          "base_uri": "https://localhost:8080/"
        },
        "id": "zEF1LSpYg-iq",
        "outputId": "a675e0bc-2b3b-4d7d-a81d-d06d26e60e4a"
      },
      "execution_count": 61,
      "outputs": [
        {
          "output_type": "execute_result",
          "data": {
            "text/plain": [
              "array([[2.99573227, 3.04452244, 3.09104245, 3.13549422, 3.17805383,\n",
              "        3.21887582],\n",
              "       [3.25809654, 3.29583687, 3.33220451, 3.36729583, 3.40119738,\n",
              "        3.4339872 ],\n",
              "       [3.4657359 , 3.49650756, 3.52636052, 3.55534806, 3.58351894,\n",
              "        3.61091791]])"
            ]
          },
          "metadata": {},
          "execution_count": 61
        }
      ]
    },
    {
      "cell_type": "markdown",
      "source": [
        "# Numpy Trigonometric Operations"
      ],
      "metadata": {
        "id": "j2ofmYK7hOaL"
      }
    },
    {
      "cell_type": "code",
      "source": [
        "import matplotlib.pyplot as plt\n",
        "plt.style.use(\"dark_background\")"
      ],
      "metadata": {
        "id": "_rtULIJXhFXM"
      },
      "execution_count": 62,
      "outputs": []
    },
    {
      "cell_type": "markdown",
      "source": [
        "Printing pi value"
      ],
      "metadata": {
        "id": "zTS628JwhoNn"
      }
    },
    {
      "cell_type": "code",
      "source": [
        "np.pi"
      ],
      "metadata": {
        "colab": {
          "base_uri": "https://localhost:8080/"
        },
        "id": "V6mGR7ifhg1e",
        "outputId": "2c50412b-6033-4092-b06c-2188cc373303"
      },
      "execution_count": 63,
      "outputs": [
        {
          "output_type": "execute_result",
          "data": {
            "text/plain": [
              "3.141592653589793"
            ]
          },
          "metadata": {},
          "execution_count": 63
        }
      ]
    },
    {
      "cell_type": "markdown",
      "source": [
        "Finding sin90"
      ],
      "metadata": {
        "id": "2O-tsH6VhuSV"
      }
    },
    {
      "cell_type": "code",
      "source": [
        "np.sin(np.pi/2)"
      ],
      "metadata": {
        "colab": {
          "base_uri": "https://localhost:8080/"
        },
        "id": "B5BMTuajhkJa",
        "outputId": "ddf3ecd3-be96-4bfa-ef4d-3e005958c0d3"
      },
      "execution_count": 64,
      "outputs": [
        {
          "output_type": "execute_result",
          "data": {
            "text/plain": [
              "1.0"
            ]
          },
          "metadata": {},
          "execution_count": 64
        }
      ]
    },
    {
      "cell_type": "markdown",
      "source": [
        "sin30"
      ],
      "metadata": {
        "id": "FpNNlv9Mh11g"
      }
    },
    {
      "cell_type": "code",
      "source": [
        "np.sin(np.pi/6)"
      ],
      "metadata": {
        "colab": {
          "base_uri": "https://localhost:8080/"
        },
        "id": "O7xN9Ti3hyM1",
        "outputId": "6292af06-1fa0-4537-d7f6-3ae8e77f76d3"
      },
      "execution_count": 65,
      "outputs": [
        {
          "output_type": "execute_result",
          "data": {
            "text/plain": [
              "0.49999999999999994"
            ]
          },
          "metadata": {},
          "execution_count": 65
        }
      ]
    },
    {
      "cell_type": "code",
      "source": [
        "np.cos(np.pi/2)"
      ],
      "metadata": {
        "colab": {
          "base_uri": "https://localhost:8080/"
        },
        "id": "GhGmkuYvh7Rz",
        "outputId": "a15d285b-19d8-4fa7-b250-4f0f7007f0a1"
      },
      "execution_count": 66,
      "outputs": [
        {
          "output_type": "execute_result",
          "data": {
            "text/plain": [
              "6.123233995736766e-17"
            ]
          },
          "metadata": {},
          "execution_count": 66
        }
      ]
    },
    {
      "cell_type": "code",
      "source": [
        "np.tan(np.pi/2)"
      ],
      "metadata": {
        "colab": {
          "base_uri": "https://localhost:8080/"
        },
        "id": "YTZ_WR_AiAXG",
        "outputId": "88be6e52-77b4-41e3-e109-6996b1a00d39"
      },
      "execution_count": 67,
      "outputs": [
        {
          "output_type": "execute_result",
          "data": {
            "text/plain": [
              "1.633123935319537e+16"
            ]
          },
          "metadata": {},
          "execution_count": 67
        }
      ]
    },
    {
      "cell_type": "code",
      "source": [
        "np.tan(0)"
      ],
      "metadata": {
        "colab": {
          "base_uri": "https://localhost:8080/"
        },
        "id": "ccpTWOMciDlh",
        "outputId": "da5ba331-2c49-4f69-e4fa-446b000b6bf8"
      },
      "execution_count": 68,
      "outputs": [
        {
          "output_type": "execute_result",
          "data": {
            "text/plain": [
              "0.0"
            ]
          },
          "metadata": {},
          "execution_count": 68
        }
      ]
    },
    {
      "cell_type": "markdown",
      "source": [
        "# Plotting Trigo Functions"
      ],
      "metadata": {
        "id": "6aiNW9g5iMSa"
      }
    },
    {
      "cell_type": "code",
      "source": [
        "x = np.arange(1,11)\n",
        "y = np.arange(10,110,10)\n",
        "\n",
        "plt.figure(figsize = (6,6))\n",
        "plt.plot(x,y,'r--')\n",
        "plt.show()"
      ],
      "metadata": {
        "colab": {
          "base_uri": "https://localhost:8080/",
          "height": 522
        },
        "id": "NRAtH5H4iJNU",
        "outputId": "e62c0890-a3a5-40c4-e34c-93eec1249c97"
      },
      "execution_count": 69,
      "outputs": [
        {
          "output_type": "display_data",
          "data": {
            "text/plain": [
              "<Figure size 600x600 with 1 Axes>"
            ],
            "image/png": "[encoded data removed]"
          },
          "metadata": {}
        }
      ]
    },
    {
      "cell_type": "markdown",
      "source": [
        "Plotting Trigo Curves"
      ],
      "metadata": {
        "id": "P5kJgiytimVJ"
      }
    },
    {
      "cell_type": "code",
      "source": [
        "x_sin = np.arange(0,2*np.pi,0.1)\n",
        "y_sin = np.sin(x_sin)\n",
        "print(y_sin)"
      ],
      "metadata": {
        "colab": {
          "base_uri": "https://localhost:8080/"
        },
        "id": "aWvQRIagiqA_",
        "outputId": "8e47531b-7858-45ab-a89f-ecaf1d04eb7b"
      },
      "execution_count": 70,
      "outputs": [
        {
          "output_type": "stream",
          "name": "stdout",
          "text": [
            "[ 0.          0.09983342  0.19866933  0.29552021  0.38941834  0.47942554\n",
            "  0.56464247  0.64421769  0.71735609  0.78332691  0.84147098  0.89120736\n",
            "  0.93203909  0.96355819  0.98544973  0.99749499  0.9995736   0.99166481\n",
            "  0.97384763  0.94630009  0.90929743  0.86320937  0.8084964   0.74570521\n",
            "  0.67546318  0.59847214  0.51550137  0.42737988  0.33498815  0.23924933\n",
            "  0.14112001  0.04158066 -0.05837414 -0.15774569 -0.2555411  -0.35078323\n",
            " -0.44252044 -0.52983614 -0.61185789 -0.68776616 -0.7568025  -0.81827711\n",
            " -0.87157577 -0.91616594 -0.95160207 -0.97753012 -0.993691   -0.99992326\n",
            " -0.99616461 -0.98245261 -0.95892427 -0.92581468 -0.88345466 -0.83226744\n",
            " -0.77276449 -0.70554033 -0.63126664 -0.55068554 -0.46460218 -0.37387666\n",
            " -0.2794155  -0.1821625  -0.0830894 ]\n"
          ]
        }
      ]
    },
    {
      "cell_type": "code",
      "source": [
        "plt.figure(figsize = (6,6))\n",
        "plt.plot(x_sin,y_sin)\n",
        "plt.title(\"Sin Curve\")\n",
        "plt.show()"
      ],
      "metadata": {
        "colab": {
          "base_uri": "https://localhost:8080/",
          "height": 545
        },
        "id": "ABYd7vxPkn7E",
        "outputId": "4906860e-150b-4b71-8d8e-f9bc88aca40e"
      },
      "execution_count": 71,
      "outputs": [
        {
          "output_type": "display_data",
          "data": {
            "text/plain": [
              "<Figure size 600x600 with 1 Axes>"
            ],
            "image/png": "[encoded data removed]"
          },
          "metadata": {}
        }
      ]
    },
    {
      "cell_type": "code",
      "source": [
        "x_cos = np.arange(0,2*np.pi,0.1)\n",
        "y_cos = np.cos(x_cos)\n",
        "print(y_cos)"
      ],
      "metadata": {
        "colab": {
          "base_uri": "https://localhost:8080/"
        },
        "id": "6sElK-vXk35l",
        "outputId": "57dd259a-eaa6-4fe4-a182-05478f020892"
      },
      "execution_count": 72,
      "outputs": [
        {
          "output_type": "stream",
          "name": "stdout",
          "text": [
            "[ 1.          0.99500417  0.98006658  0.95533649  0.92106099  0.87758256\n",
            "  0.82533561  0.76484219  0.69670671  0.62160997  0.54030231  0.45359612\n",
            "  0.36235775  0.26749883  0.16996714  0.0707372  -0.02919952 -0.12884449\n",
            " -0.22720209 -0.32328957 -0.41614684 -0.5048461  -0.58850112 -0.66627602\n",
            " -0.73739372 -0.80114362 -0.85688875 -0.90407214 -0.94222234 -0.97095817\n",
            " -0.9899925  -0.99913515 -0.99829478 -0.98747977 -0.96679819 -0.93645669\n",
            " -0.89675842 -0.84810003 -0.79096771 -0.7259323  -0.65364362 -0.57482395\n",
            " -0.49026082 -0.40079917 -0.30733287 -0.2107958  -0.11215253 -0.01238866\n",
            "  0.08749898  0.18651237  0.28366219  0.37797774  0.46851667  0.55437434\n",
            "  0.63469288  0.70866977  0.77556588  0.83471278  0.88551952  0.92747843\n",
            "  0.96017029  0.98326844  0.9965421 ]\n"
          ]
        }
      ]
    },
    {
      "cell_type": "code",
      "source": [
        "plt.figure(figsize = (6,6))\n",
        "plt.plot(x_cos,y_cos)\n",
        "plt.title(\"Cos Curve\")\n",
        "plt.show()"
      ],
      "metadata": {
        "colab": {
          "base_uri": "https://localhost:8080/",
          "height": 545
        },
        "id": "Uep1DTFolAkh",
        "outputId": "dc74801f-cee0-4da1-b30e-9b883d131f69"
      },
      "execution_count": 73,
      "outputs": [
        {
          "output_type": "display_data",
          "data": {
            "text/plain": [
              "<Figure size 600x600 with 1 Axes>"
            ],
            "image/png": "[encoded data removed]"
          },
          "metadata": {}
        }
      ]
    },
    {
      "cell_type": "code",
      "source": [
        "x_tan = np.arange(0,2*np.pi,0.1)\n",
        "y_tan = np.tan(x_tan)\n",
        "print(y_tan)"
      ],
      "metadata": {
        "colab": {
          "base_uri": "https://localhost:8080/"
        },
        "id": "EQqp8l1XlezH",
        "outputId": "d53edd7d-8969-4db6-976b-4ae19b150d56"
      },
      "execution_count": 74,
      "outputs": [
        {
          "output_type": "stream",
          "name": "stdout",
          "text": [
            "[ 0.00000000e+00  1.00334672e-01  2.02710036e-01  3.09336250e-01\n",
            "  4.22793219e-01  5.46302490e-01  6.84136808e-01  8.42288380e-01\n",
            "  1.02963856e+00  1.26015822e+00  1.55740772e+00  1.96475966e+00\n",
            "  2.57215162e+00  3.60210245e+00  5.79788372e+00  1.41014199e+01\n",
            " -3.42325327e+01 -7.69660214e+00 -4.28626167e+00 -2.92709751e+00\n",
            " -2.18503986e+00 -1.70984654e+00 -1.37382306e+00 -1.11921364e+00\n",
            " -9.16014290e-01 -7.47022297e-01 -6.01596613e-01 -4.72727629e-01\n",
            " -3.55529832e-01 -2.46405394e-01 -1.42546543e-01 -4.16166546e-02\n",
            "  5.84738545e-02  1.59745748e-01  2.64316901e-01  3.74585640e-01\n",
            "  4.93466730e-01  6.24733075e-01  7.73556091e-01  9.47424650e-01\n",
            "  1.15782128e+00  1.42352648e+00  1.77777977e+00  2.28584788e+00\n",
            "  3.09632378e+00  4.63733205e+00  8.86017490e+00  8.07127630e+01\n",
            " -1.13848707e+01 -5.26749307e+00 -3.38051501e+00 -2.44938942e+00\n",
            " -1.88564188e+00 -1.50127340e+00 -1.21754082e+00 -9.95584052e-01\n",
            " -8.13943284e-01 -6.59730572e-01 -5.24666222e-01 -4.03110900e-01\n",
            " -2.91006191e-01 -1.85262231e-01 -8.33777149e-02]\n"
          ]
        }
      ]
    },
    {
      "cell_type": "code",
      "source": [
        "plt.figure(figsize = (6,6))\n",
        "plt.plot(x_tan,y_tan)\n",
        "plt.title(\"Tan Curve\")\n",
        "plt.show()"
      ],
      "metadata": {
        "colab": {
          "base_uri": "https://localhost:8080/",
          "height": 545
        },
        "id": "djFg0kfLlkJ0",
        "outputId": "17ba24de-cc80-44f0-916a-2d72e1a83f8d"
      },
      "execution_count": 75,
      "outputs": [
        {
          "output_type": "display_data",
          "data": {
            "text/plain": [
              "<Figure size 600x600 with 1 Axes>"
            ],
            "image/png": "[encoded data removed]"
          },
          "metadata": {}
        }
      ]
    },
    {
      "cell_type": "code",
      "source": [
        "x_cot = np.arange(0,2*np.pi,0.1)\n",
        "y_cot = 1/np.tan(x_cot)\n",
        "print(y_cot)"
      ],
      "metadata": {
        "colab": {
          "base_uri": "https://localhost:8080/"
        },
        "id": "bqlcOZMUl4gD",
        "outputId": "a6e6e57c-c307-42c7-85e3-5f403d862582"
      },
      "execution_count": 76,
      "outputs": [
        {
          "output_type": "stream",
          "name": "stdout",
          "text": [
            "[            inf  9.96664442e+00  4.93315488e+00  3.23272814e+00\n",
            "  2.36522242e+00  1.83048772e+00  1.46169595e+00  1.18724183e+00\n",
            "  9.71214601e-01  7.93551148e-01  6.42092616e-01  5.08968105e-01\n",
            "  3.88779569e-01  2.77615647e-01  1.72476726e-01  7.09148443e-02\n",
            " -2.92119782e-02 -1.29927464e-01 -2.33303535e-01 -3.41635355e-01\n",
            " -4.57657554e-01 -5.84847806e-01 -7.27895776e-01 -8.93484463e-01\n",
            " -1.09168603e+00 -1.33864813e+00 -1.66224340e+00 -2.11538302e+00\n",
            " -2.81270349e+00 -4.05835272e+00 -7.01525255e+00 -2.40288416e+01\n",
            "  1.71016604e+01  6.25994754e+00  3.78333734e+00  2.66961648e+00\n",
            "  2.02647907e+00  1.60068362e+00  1.29273108e+00  1.05549291e+00\n",
            "  8.63691154e-01  7.02480784e-01  5.62499368e-01  4.37474431e-01\n",
            "  3.22963640e-01  2.15641233e-01  1.12864589e-01  1.23896143e-02\n",
            " -8.78358684e-02 -1.89843629e-01 -2.95812916e-01 -4.08265012e-01\n",
            " -5.30323394e-01 -6.66101193e-01 -8.21327696e-01 -1.00443553e+00\n",
            " -1.22858683e+00 -1.51577029e+00 -1.90597366e+00 -2.48070692e+00\n",
            " -3.43635300e+00 -5.39775429e+00 -1.19936125e+01]\n"
          ]
        },
        {
          "output_type": "stream",
          "name": "stderr",
          "text": [
            "<ipython-input-76-16e2175d8e7d>:2: RuntimeWarning: divide by zero encountered in divide\n",
            "  y_cot = 1/np.tan(x_cot)\n"
          ]
        }
      ]
    },
    {
      "cell_type": "code",
      "source": [
        "plt.figure(figsize = (6,6))\n",
        "plt.plot(x_cot,y_cot)\n",
        "plt.title(\"Cot Curve\")\n",
        "plt.show()"
      ],
      "metadata": {
        "colab": {
          "base_uri": "https://localhost:8080/",
          "height": 545
        },
        "id": "4Uq3V1MTmDAj",
        "outputId": "498297e8-00cc-4659-fba3-0fb90190447a"
      },
      "execution_count": 77,
      "outputs": [
        {
          "output_type": "display_data",
          "data": {
            "text/plain": [
              "<Figure size 600x600 with 1 Axes>"
            ],
            "image/png": "[encoded data removed]"
          },
          "metadata": {}
        }
      ]
    },
    {
      "cell_type": "markdown",
      "source": [
        "Subplot"
      ],
      "metadata": {
        "id": "x7DEKNr6mOTv"
      }
    },
    {
      "cell_type": "code",
      "source": [
        "plt.figure(figsize = (6,6))\n",
        "plt.subplot(2,2,1)\n",
        "plt.plot(x_sin,y_sin,'r-')\n",
        "plt.title(\"Sin curve\")\n",
        "\n",
        "plt.subplot(2,2,2)\n",
        "plt.plot(x_cos,y_cos,\"b-\")\n",
        "plt.title(\"Cos curve\")\n",
        "\n",
        "plt.subplot(2,2,3)\n",
        "plt.plot(x_tan,y_tan,\"g-\")\n",
        "plt.title(\"Tan curve\")\n",
        "\n",
        "plt.subplot(2,2,4)\n",
        "plt.plot(x_cot,y_cot,\"w-\")\n",
        "plt.title(\"Cot curve\")\n",
        "\n",
        "plt.show()"
      ],
      "metadata": {
        "colab": {
          "base_uri": "https://localhost:8080/",
          "height": 545
        },
        "id": "b-mMMTZ7mNB1",
        "outputId": "32e47e88-68e5-4421-855b-ee41d2cc2257"
      },
      "execution_count": 78,
      "outputs": [
        {
          "output_type": "display_data",
          "data": {
            "text/plain": [
              "<Figure size 600x600 with 4 Axes>"
            ],
            "image/png": "[encoded data removed]"
          },
          "metadata": {}
        }
      ]
    },
    {
      "cell_type": "markdown",
      "source": [
        "# Random Operations"
      ],
      "metadata": {
        "id": "Vhs39p6QnDQF"
      }
    },
    {
      "cell_type": "markdown",
      "source": [
        "Randomly printing any number"
      ],
      "metadata": {
        "id": "qP2AMidqnLpX"
      }
    },
    {
      "cell_type": "code",
      "source": [
        "np.random.random(1)"
      ],
      "metadata": {
        "colab": {
          "base_uri": "https://localhost:8080/"
        },
        "id": "JX-Z6sXjm6SU",
        "outputId": "fb4889ea-6bba-4b3a-ab63-fc70f68617a9"
      },
      "execution_count": 79,
      "outputs": [
        {
          "output_type": "execute_result",
          "data": {
            "text/plain": [
              "array([0.36359336])"
            ]
          },
          "metadata": {},
          "execution_count": 79
        }
      ]
    },
    {
      "cell_type": "markdown",
      "source": [
        "Randomly printing two numbers"
      ],
      "metadata": {
        "id": "v0EHSrtcnUx3"
      }
    },
    {
      "cell_type": "code",
      "source": [
        "np.random.random(2)"
      ],
      "metadata": {
        "colab": {
          "base_uri": "https://localhost:8080/"
        },
        "id": "i0LhFOeznRdd",
        "outputId": "c6061d92-3abf-4e3a-9b4d-2e562005afd9"
      },
      "execution_count": 80,
      "outputs": [
        {
          "output_type": "execute_result",
          "data": {
            "text/plain": [
              "array([0.57560919, 0.74164581])"
            ]
          },
          "metadata": {},
          "execution_count": 80
        }
      ]
    },
    {
      "cell_type": "code",
      "source": [
        "np.random.random((2,2))"
      ],
      "metadata": {
        "colab": {
          "base_uri": "https://localhost:8080/"
        },
        "id": "mIuKPA2Wnee0",
        "outputId": "ea65eb85-06aa-4c80-e25d-a53ec1283255"
      },
      "execution_count": 81,
      "outputs": [
        {
          "output_type": "execute_result",
          "data": {
            "text/plain": [
              "array([[0.86812486, 0.3814583 ],\n",
              "       [0.44563881, 0.44983774]])"
            ]
          },
          "metadata": {},
          "execution_count": 81
        }
      ]
    },
    {
      "cell_type": "code",
      "source": [
        "np.random.randint(1,10)"
      ],
      "metadata": {
        "colab": {
          "base_uri": "https://localhost:8080/"
        },
        "id": "JBFQIEohnmhj",
        "outputId": "301bfd5b-b9d8-4e1b-9dca-1e84461b9918"
      },
      "execution_count": 82,
      "outputs": [
        {
          "output_type": "execute_result",
          "data": {
            "text/plain": [
              "4"
            ]
          },
          "metadata": {},
          "execution_count": 82
        }
      ]
    },
    {
      "cell_type": "code",
      "source": [
        "np.random.randint(1,10,(2,2))"
      ],
      "metadata": {
        "colab": {
          "base_uri": "https://localhost:8080/"
        },
        "id": "HvcM7cvinuOm",
        "outputId": "0ef6891e-3da0-4201-bb78-bcee3e2280d5"
      },
      "execution_count": 83,
      "outputs": [
        {
          "output_type": "execute_result",
          "data": {
            "text/plain": [
              "array([[3, 8],\n",
              "       [6, 3]])"
            ]
          },
          "metadata": {},
          "execution_count": 83
        }
      ]
    },
    {
      "cell_type": "code",
      "source": [
        "np.random.randint(1,10,(3,4,5))"
      ],
      "metadata": {
        "colab": {
          "base_uri": "https://localhost:8080/"
        },
        "id": "1PKNeeZyocEW",
        "outputId": "da131e9e-903f-40e4-b9d2-c61195d6fe19"
      },
      "execution_count": 84,
      "outputs": [
        {
          "output_type": "execute_result",
          "data": {
            "text/plain": [
              "array([[[3, 5, 3, 8, 6],\n",
              "        [8, 1, 4, 8, 4],\n",
              "        [4, 4, 5, 7, 4],\n",
              "        [6, 5, 7, 1, 6]],\n",
              "\n",
              "       [[8, 6, 5, 8, 3],\n",
              "        [1, 1, 7, 1, 9],\n",
              "        [6, 6, 9, 4, 8],\n",
              "        [7, 8, 7, 4, 6]],\n",
              "\n",
              "       [[4, 7, 6, 5, 8],\n",
              "        [9, 6, 6, 7, 3],\n",
              "        [8, 7, 3, 5, 5],\n",
              "        [5, 4, 7, 2, 3]]])"
            ]
          },
          "metadata": {},
          "execution_count": 84
        }
      ]
    },
    {
      "cell_type": "markdown",
      "source": [
        "Giving float value"
      ],
      "metadata": {
        "id": "bYCxWafEonQ2"
      }
    },
    {
      "cell_type": "code",
      "source": [
        "np.random.rand(2,2)"
      ],
      "metadata": {
        "colab": {
          "base_uri": "https://localhost:8080/"
        },
        "id": "hkOz5bB4ofH0",
        "outputId": "8aac988a-aa0e-4ef8-c49c-479910f18f85"
      },
      "execution_count": 85,
      "outputs": [
        {
          "output_type": "execute_result",
          "data": {
            "text/plain": [
              "array([[0.44249821, 0.10032435],\n",
              "       [0.31039668, 0.11326769]])"
            ]
          },
          "metadata": {},
          "execution_count": 85
        }
      ]
    },
    {
      "cell_type": "code",
      "source": [
        "a = np.arange(1,10)"
      ],
      "metadata": {
        "id": "VQnfKf1Cpe07"
      },
      "execution_count": 86,
      "outputs": []
    },
    {
      "cell_type": "code",
      "source": [
        "np.random.choice(a)"
      ],
      "metadata": {
        "colab": {
          "base_uri": "https://localhost:8080/"
        },
        "id": "Sd_rB-qXvsrK",
        "outputId": "8e3ef991-73fa-4f0c-9a87-d5aa1a6dd6c6"
      },
      "execution_count": 87,
      "outputs": [
        {
          "output_type": "execute_result",
          "data": {
            "text/plain": [
              "3"
            ]
          },
          "metadata": {},
          "execution_count": 87
        }
      ]
    },
    {
      "cell_type": "markdown",
      "source": [
        "# string Operations"
      ],
      "metadata": {
        "id": "AUQ0qvNav432"
      }
    },
    {
      "cell_type": "code",
      "source": [
        "s1 = \"Hello World \"\n",
        "s2 = \"I am an Indian\""
      ],
      "metadata": {
        "id": "s_Fb-sKwvvxz"
      },
      "execution_count": 88,
      "outputs": []
    },
    {
      "cell_type": "code",
      "source": [
        "np.char.add(s1,s2)"
      ],
      "metadata": {
        "colab": {
          "base_uri": "https://localhost:8080/"
        },
        "id": "9vMt2sLfwCmB",
        "outputId": "fc430eaf-bb52-40ec-8493-a2013126780c"
      },
      "execution_count": 89,
      "outputs": [
        {
          "output_type": "execute_result",
          "data": {
            "text/plain": [
              "array('Hello World I am an Indian', dtype='<U26')"
            ]
          },
          "metadata": {},
          "execution_count": 89
        }
      ]
    },
    {
      "cell_type": "code",
      "source": [
        "np.char.upper(s1)"
      ],
      "metadata": {
        "colab": {
          "base_uri": "https://localhost:8080/"
        },
        "id": "FIp_t--5wF21",
        "outputId": "0ad9c0a4-1182-44fe-9baf-ab34f88bab28"
      },
      "execution_count": 90,
      "outputs": [
        {
          "output_type": "execute_result",
          "data": {
            "text/plain": [
              "array('HELLO WORLD ', dtype='<U12')"
            ]
          },
          "metadata": {},
          "execution_count": 90
        }
      ]
    },
    {
      "cell_type": "code",
      "source": [
        "np.char.lower(s1)"
      ],
      "metadata": {
        "colab": {
          "base_uri": "https://localhost:8080/"
        },
        "id": "tsNg03y9wMWa",
        "outputId": "57b02ed3-69a1-4e16-d694-3dbb3ba4bd37"
      },
      "execution_count": 91,
      "outputs": [
        {
          "output_type": "execute_result",
          "data": {
            "text/plain": [
              "array('hello world ', dtype='<U12')"
            ]
          },
          "metadata": {},
          "execution_count": 91
        }
      ]
    },
    {
      "cell_type": "code",
      "source": [
        "np.char.split(s2)"
      ],
      "metadata": {
        "colab": {
          "base_uri": "https://localhost:8080/"
        },
        "id": "P9tcsH9BwYXn",
        "outputId": "3307f85a-5c62-4984-914c-72e90822e655"
      },
      "execution_count": 92,
      "outputs": [
        {
          "output_type": "execute_result",
          "data": {
            "text/plain": [
              "array(list(['I', 'am', 'an', 'Indian']), dtype=object)"
            ]
          },
          "metadata": {},
          "execution_count": 92
        }
      ]
    },
    {
      "cell_type": "code",
      "source": [
        "s3 = \"Hello\\nWorld\"\n",
        "print(s3)"
      ],
      "metadata": {
        "colab": {
          "base_uri": "https://localhost:8080/"
        },
        "id": "UvuxEnfSwawr",
        "outputId": "2ebecfd8-e814-4940-ccf8-ad008288af8c"
      },
      "execution_count": 93,
      "outputs": [
        {
          "output_type": "stream",
          "name": "stdout",
          "text": [
            "Hello\n",
            "World\n"
          ]
        }
      ]
    },
    {
      "cell_type": "code",
      "source": [
        "np.char.splitlines(s3)"
      ],
      "metadata": {
        "colab": {
          "base_uri": "https://localhost:8080/"
        },
        "id": "9S6YYD8twmvN",
        "outputId": "5ebc5e41-8a5d-4743-899d-828e4bedb641"
      },
      "execution_count": 94,
      "outputs": [
        {
          "output_type": "execute_result",
          "data": {
            "text/plain": [
              "array(list(['Hello', 'World']), dtype=object)"
            ]
          },
          "metadata": {},
          "execution_count": 94
        }
      ]
    },
    {
      "cell_type": "code",
      "source": [
        "np.char.replace(s1,\"Hello\",\"Enjoy\")"
      ],
      "metadata": {
        "colab": {
          "base_uri": "https://localhost:8080/"
        },
        "id": "Tw_09IjNwu6o",
        "outputId": "dd25e7c7-f749-4451-84a6-9ebc4d2783b4"
      },
      "execution_count": 95,
      "outputs": [
        {
          "output_type": "execute_result",
          "data": {
            "text/plain": [
              "array('Enjoy World ', dtype='<U12')"
            ]
          },
          "metadata": {},
          "execution_count": 95
        }
      ]
    },
    {
      "cell_type": "code",
      "source": [
        "print(\"****************Good Bye***************\")"
      ],
      "metadata": {
        "colab": {
          "base_uri": "https://localhost:8080/"
        },
        "id": "s_t1Wn_Zw_4L",
        "outputId": "6f0265ef-1ab5-4718-dbe4-9d63f72bf548"
      },
      "execution_count": 96,
      "outputs": [
        {
          "output_type": "stream",
          "name": "stdout",
          "text": [
            "****************Good Bye***************\n"
          ]
        }
      ]
    },
    {
      "cell_type": "code",
      "source": [
        "print(np.char.center(\"Good Bye\",80,'*'))"
      ],
      "metadata": {
        "colab": {
          "base_uri": "https://localhost:8080/"
        },
        "id": "WpXNURWlxQ3q",
        "outputId": "a8cafd39-6dec-442d-a43c-b7cced95e3f8"
      },
      "execution_count": 97,
      "outputs": [
        {
          "output_type": "stream",
          "name": "stdout",
          "text": [
            "************************************Good Bye************************************\n"
          ]
        }
      ]
    }
  ]
}